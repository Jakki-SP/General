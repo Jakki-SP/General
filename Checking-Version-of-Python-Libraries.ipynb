{
 "cells": [
  {
   "cell_type": "markdown",
   "metadata": {},
   "source": [
    "# Checking Version of Installed Python Libraries\n",
    "\n",
    "Sometimes, it is required to know the version of installed Python libraries.\n",
    "\n",
    "If we open the archived projects, sometimes deprecated functions of the older python libraries may not work. In such scenarios, if we want use already developed expertise in that code, we have to modify and run those files in the corresponding environment or we need to enhance that code to new version\n",
    "\n",
    "So here I wrote small code, to check the presently installed version of Python libraries."
   ]
  },
  {
   "cell_type": "code",
   "execution_count": 1,
   "metadata": {},
   "outputs": [
    {
     "name": "stdout",
     "output_type": "stream",
     "text": [
      "Python : 3.7.0 (default, Jun 28 2018, 08:04:48) [MSC v.1912 64 bit (AMD64)]\n"
     ]
    }
   ],
   "source": [
    "import sys\n",
    "print('Python : {}'.format(sys.version))"
   ]
  },
  {
   "cell_type": "code",
   "execution_count": 2,
   "metadata": {},
   "outputs": [
    {
     "name": "stdout",
     "output_type": "stream",
     "text": [
      "Numpy : 1.15.1\n"
     ]
    }
   ],
   "source": [
    "import numpy\n",
    "print('Numpy : {}'.format(numpy.__version__))"
   ]
  },
  {
   "cell_type": "code",
   "execution_count": 3,
   "metadata": {},
   "outputs": [
    {
     "name": "stdout",
     "output_type": "stream",
     "text": [
      "Pandas : 0.23.4\n"
     ]
    }
   ],
   "source": [
    "import pandas\n",
    "print('Pandas : {}'.format(pandas.__version__))"
   ]
  },
  {
   "cell_type": "code",
   "execution_count": 4,
   "metadata": {},
   "outputs": [
    {
     "name": "stdout",
     "output_type": "stream",
     "text": [
      "Scipy : 1.1.0\n"
     ]
    }
   ],
   "source": [
    "import scipy\n",
    "print('Scipy : {}'.format(scipy.__version__))"
   ]
  },
  {
   "cell_type": "code",
   "execution_count": 5,
   "metadata": {},
   "outputs": [
    {
     "name": "stdout",
     "output_type": "stream",
     "text": [
      "Matplotlib : 2.2.3\n"
     ]
    }
   ],
   "source": [
    "import matplotlib\n",
    "print('Matplotlib : {}'.format(matplotlib.__version__))"
   ]
  },
  {
   "cell_type": "code",
   "execution_count": 6,
   "metadata": {},
   "outputs": [
    {
     "name": "stdout",
     "output_type": "stream",
     "text": [
      "Seaborn : 0.9.0\n"
     ]
    }
   ],
   "source": [
    "import seaborn\n",
    "print('Seaborn : {}'.format(seaborn.__version__))"
   ]
  }
 ],
 "metadata": {
  "kernelspec": {
   "display_name": "Python 3",
   "language": "python",
   "name": "python3"
  },
  "language_info": {
   "codemirror_mode": {
    "name": "ipython",
    "version": 3
   },
   "file_extension": ".py",
   "mimetype": "text/x-python",
   "name": "python",
   "nbconvert_exporter": "python",
   "pygments_lexer": "ipython3",
   "version": "3.7.0"
  }
 },
 "nbformat": 4,
 "nbformat_minor": 2
}
